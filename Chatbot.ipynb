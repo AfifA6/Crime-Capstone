{
  "nbformat": 4,
  "nbformat_minor": 0,
  "metadata": {
    "colab": {
      "provenance": [],
      "authorship_tag": "ABX9TyOJC5xoXb3e0VWvxFkEYvts",
      "include_colab_link": true
    },
    "kernelspec": {
      "name": "python3",
      "display_name": "Python 3"
    },
    "language_info": {
      "name": "python"
    }
  },
  "cells": [
    {
      "cell_type": "markdown",
      "metadata": {
        "id": "view-in-github",
        "colab_type": "text"
      },
      "source": [
        "<a href=\"https://colab.research.google.com/github/AfifA6/Crime-Capstone/blob/main/Chatbot.ipynb\" target=\"_parent\"><img src=\"https://colab.research.google.com/assets/colab-badge.svg\" alt=\"Open In Colab\"/></a>"
      ]
    },
    {
      "cell_type": "code",
      "source": [
        "import random\n",
        "\n",
        "R_EATING = \"I don't like eating anything because I'm a bot obviously!\"\n",
        "R_ADVICE = \"If I were you, I would go to the internet and type exactly what you wrote there!\"\n",
        "\n",
        "\n",
        "def unknown():\n",
        "    response = [\"Could you please re-phrase that? \",\n",
        "                \"...\",\n",
        "                \"Sounds about right.\",\n",
        "                \"What does that mean?\"][\n",
        "        random.randrange(4)]\n",
        "    return response"
      ],
      "metadata": {
        "id": "HtBc6odljZhH"
      },
      "execution_count": 10,
      "outputs": []
    },
    {
      "cell_type": "code",
      "execution_count": null,
      "metadata": {
        "id": "cM0EXhLoaSng"
      },
      "outputs": [],
      "source": [
        "import re\n",
        "import responses as long\n",
        "\n",
        "def message_probability(user_message, recognised_words, single_response=False, required_words=[]):\n",
        "    message_certainty = 0\n",
        "    has_required_words = True\n",
        "\n",
        "    # Counts how many words are present in each predefined message\n",
        "    for word in user_message:\n",
        "        if word in recognised_words:\n",
        "            message_certainty += 1\n",
        "\n",
        "    # Calculates the percent of recognised words in a user message\n",
        "    percentage = float(message_certainty) / float(len(recognised_words))\n",
        "\n",
        "    # Checks that the required words are in the string\n",
        "    for word in required_words:\n",
        "        if word not in user_message:\n",
        "            has_required_words = False\n",
        "            break\n",
        "\n",
        "    # Must either have the required words, or be a single response\n",
        "    if has_required_words or single_response:\n",
        "        return int(percentage * 100)\n",
        "    else:\n",
        "        return 0\n",
        "\n",
        "\n",
        "def check_all_messages(message):\n",
        "    highest_prob_list = {}\n",
        "\n",
        "    # Simplifies response creation / adds it to the dict\n",
        "    def response(bot_response, list_of_words, single_response=False, required_words=[]):\n",
        "        nonlocal highest_prob_list\n",
        "        highest_prob_list[bot_response] = message_probability(message, list_of_words, single_response, required_words)\n",
        "\n",
        "    # Responses -------------------------------------------------------------------------------------------------------\n",
        "    response('Hello!', ['hello', 'hi', 'hey', 'sup', 'heyo'], single_response=True)\n",
        "    response('See you!', ['bye', 'goodbye'], single_response=True)\n",
        "    response('I\\'m doing fine, and you?', ['how', 'are', 'you', 'doing'], required_words=['how'])\n",
        "    response('You\\'re welcome!', ['thank', 'thanks'], single_response=True)\n",
        "    response('Thank you!', ['i', 'love', 'code', 'palace'], required_words=['code', 'palace'])\n",
        "\n",
        "    # Longer responses\n",
        "    response(long.R_ADVICE, ['give', 'advice'], required_words=['advice'])\n",
        "    response(long.R_EATING, ['what', 'you', 'eat'], required_words=['you', 'eat'])\n",
        "\n",
        "    best_match = max(highest_prob_list, key=highest_prob_list.get)\n",
        "    # print(highest_prob_list)\n",
        "    # print(f'Best match = {best_match} | Score: {highest_prob_list[best_match]}')\n",
        "\n",
        "    return long.unknown() if highest_prob_list[best_match] < 1 else best_match\n",
        "\n",
        "\n",
        "# Used to get the response\n",
        "def get_response(user_input):\n",
        "    split_message = re.split(r'\\s+|[,;?!.-]\\s*', user_input.lower())\n",
        "    response = check_all_messages(split_message)\n",
        "    return response\n",
        "\n",
        "\n",
        "# Testing the response system\n",
        "while True:\n",
        "    print('Bot: ' + get_response(input('You: ')))"
      ]
    },
    {
      "cell_type": "code",
      "source": [
        "!pip install responses"
      ],
      "metadata": {
        "colab": {
          "base_uri": "https://localhost:8080/"
        },
        "id": "MtAZHW8Pe8sO",
        "outputId": "2fd0c1fe-d94a-4b2c-c789-556d58c44829"
      },
      "execution_count": 6,
      "outputs": [
        {
          "output_type": "stream",
          "name": "stdout",
          "text": [
            "Collecting responses\n",
            "  Downloading responses-0.25.3-py3-none-any.whl.metadata (46 kB)\n",
            "\u001b[2K     \u001b[90m━━━━━━━━━━━━━━━━━━━━━━━━━━━━━━━━━━━━━━━━\u001b[0m \u001b[32m46.7/46.7 kB\u001b[0m \u001b[31m756.2 kB/s\u001b[0m eta \u001b[36m0:00:00\u001b[0m\n",
            "\u001b[?25hRequirement already satisfied: requests<3.0,>=2.30.0 in /usr/local/lib/python3.10/dist-packages (from responses) (2.32.3)\n",
            "Requirement already satisfied: urllib3<3.0,>=1.25.10 in /usr/local/lib/python3.10/dist-packages (from responses) (2.0.7)\n",
            "Requirement already satisfied: pyyaml in /usr/local/lib/python3.10/dist-packages (from responses) (6.0.2)\n",
            "Requirement already satisfied: charset-normalizer<4,>=2 in /usr/local/lib/python3.10/dist-packages (from requests<3.0,>=2.30.0->responses) (3.3.2)\n",
            "Requirement already satisfied: idna<4,>=2.5 in /usr/local/lib/python3.10/dist-packages (from requests<3.0,>=2.30.0->responses) (3.8)\n",
            "Requirement already satisfied: certifi>=2017.4.17 in /usr/local/lib/python3.10/dist-packages (from requests<3.0,>=2.30.0->responses) (2024.8.30)\n",
            "Downloading responses-0.25.3-py3-none-any.whl (55 kB)\n",
            "\u001b[2K   \u001b[90m━━━━━━━━━━━━━━━━━━━━━━━━━━━━━━━━━━━━━━━━\u001b[0m \u001b[32m55.2/55.2 kB\u001b[0m \u001b[31m1.1 MB/s\u001b[0m eta \u001b[36m0:00:00\u001b[0m\n",
            "\u001b[?25hInstalling collected packages: responses\n",
            "Successfully installed responses-0.25.3\n"
          ]
        }
      ]
    },
    {
      "cell_type": "code",
      "source": [],
      "metadata": {
        "id": "Dtx48JtkfDt_"
      },
      "execution_count": null,
      "outputs": []
    }
  ]
}