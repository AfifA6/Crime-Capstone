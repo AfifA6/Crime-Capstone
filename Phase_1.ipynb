{
 "cells": [
  {
   "cell_type": "markdown",
   "id": "f89b26d5",
   "metadata": {},
   "source": [
    "## Phase 1 "
   ]
  },
  {
   "cell_type": "markdown",
   "id": "7776928e",
   "metadata": {},
   "source": [
    "## Data Collection / Preparation part"
   ]
  },
  {
   "cell_type": "markdown",
   "id": "b2793072",
   "metadata": {},
   "source": [
    "### Links"
   ]
  },
  {
   "cell_type": "markdown",
   "id": "e67f64b0",
   "metadata": {},
   "source": [
    "- https://en.wikipedia.org/wiki/2011_Census_of_India\n",
    "- https://en.wikipedia.org/wiki/List_of_states_and_union_territories_of_India_by_area\n",
    "- http://cyberjournalist.org.in/census/cenlit0.html\n",
    "- https://unacademy.com/content/bank-exam/study-material/general-awareness/population-of-state-and-union-territory-as-per-census-2011/\n",
    "- https://www.census2011.co.in/states.php\n",
    "- https://en.wikipedia.org/wiki/List_of_Indian_states_and_union_territories_by_literacy_rate\n",
    "- https://rbidocs.rbi.org.in/rdocs/Publications/PDFs/6TABLE4134B659E3B243EE9CB292D36ABC281B.PDF"
   ]
  },
  {
   "cell_type": "markdown",
   "id": "66276465",
   "metadata": {},
   "source": [
    "The links above are all the links that I have used to collect data for analysis of this Crimes in India project."
   ]
  },
  {
   "cell_type": "markdown",
   "id": "64443ff5",
   "metadata": {},
   "source": [
    "The excel file attached to this file contains all the data I've gathered from the above mentioned links."
   ]
  },
  {
   "cell_type": "code",
   "execution_count": null,
   "id": "7d82855a",
   "metadata": {},
   "outputs": [],
   "source": []
  }
 ],
 "metadata": {
  "kernelspec": {
   "display_name": "Python 3 (ipykernel)",
   "language": "python",
   "name": "python3"
  },
  "language_info": {
   "codemirror_mode": {
    "name": "ipython",
    "version": 3
   },
   "file_extension": ".py",
   "mimetype": "text/x-python",
   "name": "python",
   "nbconvert_exporter": "python",
   "pygments_lexer": "ipython3",
   "version": "3.10.9"
  }
 },
 "nbformat": 4,
 "nbformat_minor": 5
}
